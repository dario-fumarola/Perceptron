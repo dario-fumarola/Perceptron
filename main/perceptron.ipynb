{
 "cells": [
  {
   "cell_type": "code",
   "execution_count": 2,
   "id": "f011a0ef",
   "metadata": {},
   "outputs": [],
   "source": [
    "# 1. Import Libraries\n",
    "\n",
    "import numpy as np\n",
    "import pandas as pd\n",
    "import tensorflow as tf\n",
    "\n",
    "from tensorflow import feature_column # reformats structured data for ease in calculations\n",
    "from tensorflow.keras import layers # to create the layer in the neural network\n",
    "from sklearn.model_selection import train_test_split # splits the data for us\n",
    "from sklearn.metrics import confusion_matrix # calculates the confusion matrix\n",
    "from sklearn.metrics import accuracy_score # calculates the accuracy score\n",
    "\n",
    "import matplotlib.pyplot as plt\n",
    "%matplotlib inline \n",
    "# so that plots remain within the cells\n"
   ]
  },
  {
   "cell_type": "code",
   "execution_count": 3,
   "id": "106dcf27",
   "metadata": {},
   "outputs": [],
   "source": [
    "# 2. Declare Parameters\n",
    "\n",
    "n_features = 2\n",
    "n_units = 1 # indicates number of neurons"
   ]
  },
  {
   "cell_type": "code",
   "execution_count": 4,
   "id": "7fd63f26",
   "metadata": {},
   "outputs": [],
   "source": [
    "# 3. Declare Weights and Bias\n",
    "\n",
    "weight = tf.Variable(tf.zeros([n_features,n_units])) # initializing to zero\n",
    "bias = tf.Variable(tf.zeros([n_units])) # initializing to zero"
   ]
  },
  {
   "cell_type": "code",
   "execution_count": 5,
   "id": "877f752a",
   "metadata": {},
   "outputs": [],
   "source": [
    "# 4. Define Perceptron Function\n",
    "\n",
    "def perceptron(x):\n",
    "    I = tf.add(tf.matmul(x,weight),bias)\n",
    "    output = tf.sigmoid(I)\n",
    "    return output"
   ]
  },
  {
   "cell_type": "code",
   "execution_count": 22,
   "id": "5cbe5dfd",
   "metadata": {},
   "outputs": [],
   "source": [
    "# 5. Define the Loss Function and Optimizer\n",
    "\n",
    "individual_loss=lambda: abs(tf.reduce_mean(tf.nn.sigmoid_cross_entropy_with_logits(labels=y,logits=perceptron(x))))\n",
    "\n",
    "optimizer= tf.keras.optimizers.Adam(.01)"
   ]
  },
  {
   "cell_type": "code",
   "execution_count": 23,
   "id": "0888a739",
   "metadata": {},
   "outputs": [
    {
     "data": {
      "text/html": [
       "<div>\n",
       "<style scoped>\n",
       "    .dataframe tbody tr th:only-of-type {\n",
       "        vertical-align: middle;\n",
       "    }\n",
       "\n",
       "    .dataframe tbody tr th {\n",
       "        vertical-align: top;\n",
       "    }\n",
       "\n",
       "    .dataframe thead th {\n",
       "        text-align: right;\n",
       "    }\n",
       "</style>\n",
       "<table border=\"1\" class=\"dataframe\">\n",
       "  <thead>\n",
       "    <tr style=\"text-align: right;\">\n",
       "      <th></th>\n",
       "      <th>label</th>\n",
       "      <th>x1</th>\n",
       "      <th>x2</th>\n",
       "    </tr>\n",
       "  </thead>\n",
       "  <tbody>\n",
       "    <tr>\n",
       "      <th>0</th>\n",
       "      <td>1</td>\n",
       "      <td>2.6487</td>\n",
       "      <td>4.5192</td>\n",
       "    </tr>\n",
       "    <tr>\n",
       "      <th>1</th>\n",
       "      <td>1</td>\n",
       "      <td>1.5438</td>\n",
       "      <td>2.4443</td>\n",
       "    </tr>\n",
       "    <tr>\n",
       "      <th>2</th>\n",
       "      <td>1</td>\n",
       "      <td>1.8990</td>\n",
       "      <td>4.2409</td>\n",
       "    </tr>\n",
       "    <tr>\n",
       "      <th>3</th>\n",
       "      <td>1</td>\n",
       "      <td>2.4711</td>\n",
       "      <td>5.8097</td>\n",
       "    </tr>\n",
       "    <tr>\n",
       "      <th>4</th>\n",
       "      <td>1</td>\n",
       "      <td>3.3590</td>\n",
       "      <td>6.4423</td>\n",
       "    </tr>\n",
       "  </tbody>\n",
       "</table>\n",
       "</div>"
      ],
      "text/plain": [
       "   label      x1      x2\n",
       "0      1  2.6487  4.5192\n",
       "1      1  1.5438  2.4443\n",
       "2      1  1.8990  4.2409\n",
       "3      1  2.4711  5.8097\n",
       "4      1  3.3590  6.4423"
      ]
     },
     "execution_count": 23,
     "metadata": {},
     "output_type": "execute_result"
    }
   ],
   "source": [
    "# 6. Read in the Data\n",
    "\n",
    "dataframe = pd.read_csv('data.csv')\n",
    "dataframe.head()\n"
   ]
  },
  {
   "cell_type": "code",
   "execution_count": 24,
   "id": "acf345d8",
   "metadata": {},
   "outputs": [
    {
     "data": {
      "text/plain": [
       "<matplotlib.collections.PathCollection at 0x1b1b3d0e040>"
      ]
     },
     "execution_count": 24,
     "metadata": {},
     "output_type": "execute_result"
    },
    {
     "data": {
      "image/png": "[encoded data removed]",
      "text/plain": [
       "<Figure size 432x288 with 1 Axes>"
      ]
     },
     "metadata": {
      "needs_background": "light"
     },
     "output_type": "display_data"
    }
   ],
   "source": [
    "# 7. Visualization of Labels\n",
    "\n",
    "plt.scatter(dataframe.x1,dataframe.x2,c=dataframe.label)"
   ]
  },
  {
   "cell_type": "code",
   "execution_count": 25,
   "id": "ddc1ae9c",
   "metadata": {},
   "outputs": [
    {
     "data": {
      "text/plain": [
       "array([[2.6487, 4.5192],\n",
       "       [1.5438, 2.4443],\n",
       "       [1.899 , 4.2409],\n",
       "       [2.4711, 5.8097],\n",
       "       [3.359 , 6.4423],\n",
       "       [3.2406, 5.8097],\n",
       "       [3.8128, 6.3917],\n",
       "       [4.4441, 6.8725],\n",
       "       [3.6747, 6.7966],\n",
       "       [7.5417, 4.0891],\n",
       "       [7.2063, 2.3937],\n",
       "       [6.5355, 1.331 ],\n",
       "       [5.4503, 1.7358],\n",
       "       [5.8449, 2.4443],\n",
       "       [4.8979, 3.1781],\n",
       "       [5.8055, 4.6711],\n",
       "       [7.3641, 5.9868],\n",
       "       [6.2592, 4.6711],\n",
       "       [8.3703, 7.581 ],\n",
       "       [8.5676, 4.6457],\n",
       "       [8.1676, 4.6457]])"
      ]
     },
     "execution_count": 25,
     "metadata": {},
     "output_type": "execute_result"
    }
   ],
   "source": [
    "# 8. Prepare Inputs\n",
    "\n",
    "x_input = dataframe[['x1','x2']].values\n",
    "y_label = dataframe[['label']].values\n",
    "\n",
    "# View the input matrix\n",
    "x_input"
   ]
  },
  {
   "cell_type": "code",
   "execution_count": 26,
   "id": "2578e289",
   "metadata": {},
   "outputs": [],
   "source": [
    "# 9. Initialize Variables\n",
    "\n",
    "# Initialize the variable x\n",
    "x = tf.Variable(x_input)\n",
    "\n",
    "# Change the datatype of x to 'float32'\n",
    "x = tf.cast(x,tf.float32)\n",
    "\n",
    "# Create the y variable\n",
    "y = tf.Variable(y_label)\n",
    "\n",
    "# Change the datatype of y to 'float32'\n",
    "y = tf.cast(y,tf.float32)"
   ]
  },
  {
   "cell_type": "code",
   "execution_count": 27,
   "id": "c6302a88",
   "metadata": {},
   "outputs": [],
   "source": [
    "# 10. Train the model\n",
    "\n",
    "for i in range(1000):\n",
    "    optimizer.minimize(individual_loss,[weight,bias])"
   ]
  },
  {
   "cell_type": "code",
   "execution_count": 29,
   "id": "e2387df7",
   "metadata": {},
   "outputs": [
    {
     "name": "stdout",
     "output_type": "stream",
     "text": [
      "[[-2.42329383]\n",
      " [1.85045409]] [1.74988747]\r\n"
     ]
    }
   ],
   "source": [
    "# 11. New Values for Weights and Bias\n",
    "\n",
    "tf.print(weight,bias)"
   ]
  },
  {
   "cell_type": "code",
   "execution_count": 30,
   "id": "6cf51eef",
   "metadata": {},
   "outputs": [
    {
     "name": "stdout",
     "output_type": "stream",
     "text": [
      "0.534005523\r\n"
     ]
    }
   ],
   "source": [
    "# 12. View the Final Loss\n",
    "final_loss = tf.reduce_mean(tf.nn.sigmoid_cross_entropy_with_logits(labels=y,logits=perceptron(x)))\n",
    "\n",
    "tf.print(final_loss)"
   ]
  },
  {
   "cell_type": "code",
   "execution_count": 33,
   "id": "0e2c8a95",
   "metadata": {},
   "outputs": [],
   "source": [
    "# 13. Predicting Using the Trained Model\n",
    "\n",
    "ypred = perceptron(x)\n",
    "ypred = tf.round(ypred) # Round off the output value to 1 or 0. to make the comparison with the target easier"
   ]
  },
  {
   "cell_type": "code",
   "execution_count": 36,
   "id": "fd568659",
   "metadata": {},
   "outputs": [
    {
     "data": {
      "text/plain": [
       "array([[12,  0],\n",
       "       [ 0,  9]], dtype=int64)"
      ]
     },
     "execution_count": 36,
     "metadata": {},
     "output_type": "execute_result"
    }
   ],
   "source": [
    "# 14. Evaluate the Model\n",
    "\n",
    "accuracy_score(y, ypred)\n",
    "confusion_matrix(y, ypred)"
   ]
  },
  {
   "cell_type": "code",
   "execution_count": null,
   "id": "aafe936e",
   "metadata": {},
   "outputs": [],
   "source": []
  }
 ],
 "metadata": {
  "kernelspec": {
   "display_name": "Python 3 (ipykernel)",
   "language": "python",
   "name": "python3"
  },
  "language_info": {
   "codemirror_mode": {
    "name": "ipython",
    "version": 3
   },
   "file_extension": ".py",
   "mimetype": "text/x-python",
   "name": "python",
   "nbconvert_exporter": "python",
   "pygments_lexer": "ipython3",
   "version": "3.9.1"
  }
 },
 "nbformat": 4,
 "nbformat_minor": 5
}
